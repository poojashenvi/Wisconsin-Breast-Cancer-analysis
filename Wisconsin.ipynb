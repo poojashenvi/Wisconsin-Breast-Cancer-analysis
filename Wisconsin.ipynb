{
  "nbformat": 4,
  "nbformat_minor": 0,
  "metadata": {
    "colab": {
      "name": "Wisconsin.ipynb",
      "provenance": [],
      "collapsed_sections": [],
      "toc_visible": true
    },
    "kernelspec": {
      "display_name": "Python 3",
      "language": "python",
      "name": "python3"
    },
    "language_info": {
      "codemirror_mode": {
        "name": "ipython",
        "version": 3
      },
      "file_extension": ".py",
      "mimetype": "text/x-python",
      "name": "python",
      "nbconvert_exporter": "python",
      "pygments_lexer": "ipython3",
      "version": "3.7.3"
    }
  },
  "cells": [
    {
      "cell_type": "markdown",
      "metadata": {
        "colab_type": "text",
        "id": "pSA0xiGqih1o"
      },
      "source": [
        "**Part-1 (Binary Classification):**"
      ]
    },
    {
      "cell_type": "code",
      "metadata": {
        "colab_type": "code",
        "id": "zJk2ChwN0vyn",
        "outputId": "0225feab-230f-4f64-a452-82e417757425",
        "colab": {
          "base_uri": "https://localhost:8080/",
          "height": 136
        }
      },
      "source": [
        "#1.1 Data Munging (3 Marks)\n",
        "#a)Read the training and testing data. Print the number of features in the dataset.\n",
        "\n",
        "import pandas as pd\n",
        "import matplotlib.pyplot as plt\n",
        "\n",
        "training_data = pd.read_csv('train_wbcd.csv')\n",
        "print(\"Training Data shape: {}\".format(training_data.shape))\n",
        "#print(training_data.head())\n",
        "\n",
        "testing_data = pd.read_csv('test_wbcd.csv')\n",
        "print(\"Testing Data shape: {}\".format(testing_data.shape))\n",
        "#print(testing_data.head())\n",
        "\n",
        "print('')\n",
        "print(\"\"\"The training and testing datasets contain 32 columns \n",
        " * 30 feature columns f1 to f30\n",
        " * 1 Diagnosis/label column Diagnosis \n",
        " * 1 patient identifier column Patient_ID  \"\"\")"
      ],
      "execution_count": 0,
      "outputs": [
        {
          "output_type": "stream",
          "text": [
            "Training Data shape: (100, 32)\n",
            "Testing Data shape: (20, 32)\n",
            "\n",
            "The training and testing datasets contain 32 columns \n",
            " * 30 feature columns f1 to f30\n",
            " * 1 Diagnosis/label column Diagnosis \n",
            " * 1 patient identifier column Patient_ID  \n"
          ],
          "name": "stdout"
        }
      ]
    },
    {
      "cell_type": "code",
      "metadata": {
        "colab_type": "code",
        "id": "vtdrMXwxFNbm",
        "outputId": "53563bde-528c-4158-8e95-921cc2fdf9e8",
        "colab": {
          "base_uri": "https://localhost:8080/",
          "height": 777
        }
      },
      "source": [
        "#b) For the data label, print the total number of B's and M's in the training and testing data. \n",
        "import seaborn as sns\n",
        "\n",
        "print('The count on B''s and M''s in training data')\n",
        "print(training_data['Diagnosis'].value_counts())\n",
        "print('')\n",
        "print('The count on B''s and M''s in testing data')\n",
        "print(testing_data['Diagnosis'].value_counts())\n",
        "print('')\n",
        "\n",
        "plt.figure(figsize=(8, 4))\n",
        "sns.countplot(training_data['Diagnosis'], palette='RdBu')\n",
        "plt.title('Training data Diagnosis distribution')\n",
        "plt.figure(figsize=(8, 4))\n",
        "sns.countplot(testing_data['Diagnosis'], palette='RdBu')\n",
        "plt.title('Testing data Diagnosis distribution')\n",
        "\n",
        "#Comment on the class distribution. Is it balanced or unbalanced? \n",
        "print(\"\"\"The class distibution is unbalanced, The number of B\\'s in training and testing datasets are \n",
        "higher than number of M\\'s\"\"\")"
      ],
      "execution_count": 0,
      "outputs": [
        {
          "output_type": "stream",
          "text": [
            "The count on Bs and Ms in training data\n",
            "B    58\n",
            "M    42\n",
            "Name: Diagnosis, dtype: int64\n",
            "\n",
            "The count on Bs and Ms in testing data\n",
            "B    14\n",
            "M     6\n",
            "Name: Diagnosis, dtype: int64\n",
            "\n",
            "The class distibution is unbalanced, The number of B's in training and testing datasets are \n",
            "higher than number of M's\n"
          ],
          "name": "stdout"
        },
        {
          "output_type": "display_data",
          "data": {
            "image/png": "[encoded data removed]",
            "text/plain": [
              "<Figure size 576x288 with 1 Axes>"
            ]
          },
          "metadata": {
            "tags": [],
            "needs_background": "light"
          }
        },
        {
          "output_type": "display_data",
          "data": {
            "image/png": "[encoded data removed]",
            "text/plain": [
              "<Figure size 576x288 with 1 Axes>"
            ]
          },
          "metadata": {
            "tags": [],
            "needs_background": "light"
          }
        }
      ]
    },
    {
      "cell_type": "code",
      "metadata": {
        "colab_type": "code",
        "id": "E1X-70lnFNOI",
        "outputId": "ab9eb54f-13cd-4023-fbbb-cba583b6e816",
        "colab": {
          "base_uri": "https://localhost:8080/",
          "height": 425
        }
      },
      "source": [
        "#c) Print the number of features with missing entries (feature value is zero). \n",
        "print('The number of feature columns that have a null value for feature value in training dataset')\n",
        "print((training_data.iloc[:,2:32]).isnull().any().value_counts())\n",
        "#print(training_data.iloc[:,2:32]).isnull().sum()\n",
        "print('The number of feature columns that have a zero value for feature value in training dataset')\n",
        "print ((training_data.iloc[:,2:32]== 0).any().value_counts())\n",
        "#print(training_data.iloc[:,2:32]== 0).sum()\n",
        "print('The number of feature columns that have a null value for feature value in testing dataset')\n",
        "print((testing_data.iloc[:,2:32]).isnull().any().value_counts())\n",
        "#print(testing_data.iloc[:,2:32]).isnull().sum()\n",
        "print('The number of feature columns that have a zero value for feature value in testing dataset')\n",
        "print((testing_data.iloc[:,2:32]== 0).any().value_counts())\n",
        "#print(testing_data.iloc[:,2:32]== 0).sum()\n",
        "\n",
        "print('')\n",
        "print('Columns with Null values in training dataset :',training_data.columns[training_data.isnull().any()].tolist() )\n",
        "print('Columns with zeros in training dataset :',training_data.columns[(training_data==0).any()].tolist())\n",
        "print('Columns with Null values in testing dataset :',testing_data.columns[training_data.isnull().any()].tolist())\n",
        "print('Columns with zeros in testing dataset :',testing_data.columns[(training_data==0).any()].tolist())\n",
        "\n",
        "\n",
        "print('')\n",
        "print('In Training dataset Column f21 has 2 null values and columns f7,f8,f17,f18,f27,f28 have 6 0\\'s')\n",
        "print('In Testing dataset Column f21 has 1 null value and columns f7,f8,f17,f18,f27,f28 have 1 0\\'s')"
      ],
      "execution_count": 0,
      "outputs": [
        {
          "output_type": "stream",
          "text": [
            "The number of feature columns that have a null value for feature value in training dataset\n",
            "False    29\n",
            "True      1\n",
            "dtype: int64\n",
            "The number of feature columns that have a zero value for feature value in training dataset\n",
            "False    24\n",
            "True      6\n",
            "dtype: int64\n",
            "The number of feature columns that have a null value for feature value in testing dataset\n",
            "False    29\n",
            "True      1\n",
            "dtype: int64\n",
            "The number of feature columns that have a zero value for feature value in testing dataset\n",
            "False    24\n",
            "True      6\n",
            "dtype: int64\n",
            "\n",
            "Columns with Null values in training dataset : ['f21']\n",
            "Columns with zeros in training dataset : ['f7', 'f8', 'f17', 'f18', 'f27', 'f28']\n",
            "Columns with Null values in testing dataset : ['f21']\n",
            "Columns with zeros in testing dataset : ['f7', 'f8', 'f17', 'f18', 'f27', 'f28']\n",
            "\n",
            "In Training dataset Column f21 has 2 null values and columns f7,f8,f17,f18,f27,f28 have 6 0's\n",
            "In Testing dataset Column f21 has 1 null value and columns f7,f8,f17,f18,f27,f28 have 1 0's\n"
          ],
          "name": "stdout"
        }
      ]
    },
    {
      "cell_type": "code",
      "metadata": {
        "colab_type": "code",
        "id": "JVb4seeJYf7E",
        "outputId": "29d2e553-42ac-41af-a3b8-71e0c783cc65",
        "colab": {
          "base_uri": "https://localhost:8080/",
          "height": 703
        }
      },
      "source": [
        "print('Histograms for features with 0 or null values in training dataset')\n",
        "print('---------------------------------------------')\n",
        "training_data.hist(column = ['f21','f7','f8','f17','f18','f27','f28'] , figsize=(8,8),bins=5)"
      ],
      "execution_count": 0,
      "outputs": [
        {
          "output_type": "stream",
          "text": [
            "Histograms for features with 0 or null values in training dataset\n",
            "---------------------------------------------\n"
          ],
          "name": "stdout"
        },
        {
          "output_type": "execute_result",
          "data": {
            "text/plain": [
              "array([[<matplotlib.axes._subplots.AxesSubplot object at 0x000001A40E7A0E80>,\n",
              "        <matplotlib.axes._subplots.AxesSubplot object at 0x000001A40EDEEF28>,\n",
              "        <matplotlib.axes._subplots.AxesSubplot object at 0x000001A40EE3E908>],\n",
              "       [<matplotlib.axes._subplots.AxesSubplot object at 0x000001A40EEDDB70>,\n",
              "        <matplotlib.axes._subplots.AxesSubplot object at 0x000001A411A44DD8>,\n",
              "        <matplotlib.axes._subplots.AxesSubplot object at 0x000001A411A75080>],\n",
              "       [<matplotlib.axes._subplots.AxesSubplot object at 0x000001A411A9F4A8>,\n",
              "        <matplotlib.axes._subplots.AxesSubplot object at 0x000001A411AC49E8>,\n",
              "        <matplotlib.axes._subplots.AxesSubplot object at 0x000001A411AC4A20>]],\n",
              "      dtype=object)"
            ]
          },
          "metadata": {
            "tags": []
          },
          "execution_count": 287
        },
        {
          "output_type": "display_data",
          "data": {
            "image/png": "[encoded data removed]",
            "text/plain": [
              "<Figure size 576x576 with 9 Axes>"
            ]
          },
          "metadata": {
            "tags": [],
            "needs_background": "light"
          }
        }
      ]
    },
    {
      "cell_type": "code",
      "metadata": {
        "colab_type": "code",
        "id": "0SFy34fSYhki",
        "outputId": "beb87f21-04c3-40c6-d68c-17bb24c8fab6",
        "colab": {
          "base_uri": "https://localhost:8080/",
          "height": 720
        }
      },
      "source": [
        "print('')\n",
        "print('Histograms for features with 0 or null values in testing dataset')\n",
        "print('---------------------------------------------')\n",
        "testing_data.hist(column = ['f21','f7','f8','f17','f18','f27','f28'] , figsize=(8,8),bins=5)"
      ],
      "execution_count": 0,
      "outputs": [
        {
          "output_type": "stream",
          "text": [
            "\n",
            "Histograms for features with 0 or null values in testing dataset\n",
            "---------------------------------------------\n"
          ],
          "name": "stdout"
        },
        {
          "output_type": "execute_result",
          "data": {
            "text/plain": [
              "array([[<matplotlib.axes._subplots.AxesSubplot object at 0x000001A411D41EF0>,\n",
              "        <matplotlib.axes._subplots.AxesSubplot object at 0x000001A411DF39B0>,\n",
              "        <matplotlib.axes._subplots.AxesSubplot object at 0x000001A411E16EF0>],\n",
              "       [<matplotlib.axes._subplots.AxesSubplot object at 0x000001A411BA54A8>,\n",
              "        <matplotlib.axes._subplots.AxesSubplot object at 0x000001A411BC9A20>,\n",
              "        <matplotlib.axes._subplots.AxesSubplot object at 0x000001A411BF3F98>],\n",
              "       [<matplotlib.axes._subplots.AxesSubplot object at 0x000001A411C23550>,\n",
              "        <matplotlib.axes._subplots.AxesSubplot object at 0x000001A411C49B00>,\n",
              "        <matplotlib.axes._subplots.AxesSubplot object at 0x000001A411C49B38>]],\n",
              "      dtype=object)"
            ]
          },
          "metadata": {
            "tags": []
          },
          "execution_count": 288
        },
        {
          "output_type": "display_data",
          "data": {
            "image/png": "[encoded data removed]",
            "text/plain": [
              "<Figure size 576x576 with 9 Axes>"
            ]
          },
          "metadata": {
            "tags": [],
            "needs_background": "light"
          }
        }
      ]
    },
    {
      "cell_type": "code",
      "metadata": {
        "colab_type": "code",
        "id": "EZH1WfGnYtuH",
        "outputId": "e53223fe-b580-4856-9f98-d296773e9f78",
        "colab": {
          "base_uri": "https://localhost:8080/",
          "height": 68
        }
      },
      "source": [
        "print(\"\"\"Columns f18 and f28 are somewhat normally distributed, rest of the columns are skewed in both training and \n",
        "testing datasets.This is why, we will replace the missing values with mean for columns f18 and f28.\n",
        "We will use median for the remaining columns\"\"\")"
      ],
      "execution_count": 0,
      "outputs": [
        {
          "output_type": "stream",
          "text": [
            "Columns f18 and f28 are somewhat normally distributed, rest of the columns are skewed in both training and \n",
            "testing datasets.This is why, we will replace the missing values with mean for columns f18 and f28.\n",
            "We will use median for the remaining columns\n"
          ],
          "name": "stdout"
        }
      ]
    },
    {
      "cell_type": "code",
      "metadata": {
        "colab_type": "code",
        "id": "6ODttdF_xQoj",
        "colab": {}
      },
      "source": [
        "#d) Fill the missing entries. For filling any feature, you can use either mean or median value of the feature \n",
        "#values from observed entries.\n",
        "#training dataset\n",
        "training_data['f18']=training_data['f18'].replace(0,training_data['f18'].mean())\n",
        "training_data['f28']=training_data['f28'].replace(0,training_data['f28'].mean())\n",
        "training_data['f8']=training_data['f8'].replace(0,training_data['f8'].median())\n",
        "training_data['f7']=training_data['f7'].replace(0,training_data['f7'].median())\n",
        "training_data['f17']=training_data['f17'].replace(0,training_data['f17'].median())\n",
        "training_data['f27']=training_data['f27'].replace(0,training_data['f27'].median())\n",
        "training_data['f21']=training_data['f21'].fillna((training_data['f21'].median()))\n",
        "\n",
        "#testing dataset\n",
        "testing_data['f18']=testing_data['f18'].replace(0,testing_data['f18'].mean())\n",
        "testing_data['f28']=testing_data['f28'].replace(0,testing_data['f28'].mean())\n",
        "testing_data['f8']=testing_data['f8'].replace(0,testing_data['f8'].median())\n",
        "testing_data['f7']=testing_data['f7'].replace(0,testing_data['f7'].median())\n",
        "testing_data['f17']=testing_data['f17'].replace(0,testing_data['f17'].median())\n",
        "testing_data['f27']=testing_data['f27'].replace(0,testing_data['f27'].median())\n",
        "testing_data['f21']=testing_data['f21'].fillna((testing_data['f21'].median()))"
      ],
      "execution_count": 0,
      "outputs": []
    },
    {
      "cell_type": "markdown",
      "metadata": {
        "colab_type": "text",
        "id": "vPX1vkm8xOWN"
      },
      "source": [
        "** Question d-  Explain the reason behind your choice.\n",
        "\n",
        "Columns f18 and f28 are somewhat normally distributed, rest of the columns all are skewed.\n",
        "This is why, we will replace the missing values with mean for columns f18 and f28.\n",
        "We will use median for the remaining columns"
      ]
    },
    {
      "cell_type": "code",
      "metadata": {
        "colab_type": "code",
        "id": "e-DCdJcsOxPz",
        "colab": {}
      },
      "source": [
        "#e) Normalize the training and testing data and create new normalized dataframe for features columns\n",
        "from sklearn import preprocessing\n",
        "\n",
        "min_max_scaler = preprocessing.MinMaxScaler()\n",
        "#np_scaled = min_max_scaler.fit_transform(training_data.iloc[:,2:32])\n",
        "#training_data_normalized = pd.DataFrame(np_scaled)\n",
        "training_data.iloc[:,2:32] = min_max_scaler.fit_transform(training_data.iloc[:,2:32])\n",
        "\n",
        "min_max_scaler = preprocessing.MinMaxScaler()\n",
        "#np_scaled = min_max_scaler.fit_transform(testing_data.iloc[:,2:32])\n",
        "#testing_data_normalized = pd.DataFrame(np_scaled)\n",
        "testing_data.iloc[:,2:32] = min_max_scaler.fit_transform(testing_data.iloc[:,2:32])\n",
        "\n",
        "training_data['Diagnosis']=training_data['Diagnosis'].map({'M':1,'B':0})\n",
        "testing_data['Diagnosis']=testing_data['Diagnosis'].map({'M':1,'B':0})"
      ],
      "execution_count": 0,
      "outputs": []
    },
    {
      "cell_type": "code",
      "metadata": {
        "colab_type": "code",
        "id": "MDraa04BL8Sz",
        "colab": {}
      },
      "source": [
        "#Create feature and label datasets for running supervised learning algorithms\n",
        "#Labels M and B are categorical variables and they will be converted to numerical variables by mapping M to 1 and B to 0\n",
        "Feature_training_data=training_data.iloc[:,2:32].copy()\n",
        "Feature_testing_data=testing_data.iloc[:,2:32].copy()\n",
        "labels_training_data=training_data['Diagnosis'].copy()\n",
        "labels_testing_data=testing_data['Diagnosis'].copy()"
      ],
      "execution_count": 0,
      "outputs": []
    },
    {
      "cell_type": "code",
      "metadata": {
        "colab_type": "code",
        "id": "MQSbC-hKMbPA",
        "outputId": "e8553c71-ccb3-4784-96ad-4d85ae9b902f",
        "colab": {
          "base_uri": "https://localhost:8080/",
          "height": 680
        }
      },
      "source": [
        "#1.2 Logistic Regression\n",
        "#Train logistic regression models with L1 regularization and L2 regularization using alpha = 0.1 and lambda = 0.1.\n",
        "#Report accuracy, precision, recall, f1-score and print the confusion matrix.\n",
        "from sklearn.linear_model import LogisticRegression\n",
        "from sklearn import metrics\n",
        "from sklearn.metrics import accuracy_score\n",
        "from sklearn.metrics import confusion_matrix\n",
        "from sklearn.metrics import classification_report\n",
        "# import warnings filter\n",
        "from warnings import simplefilter\n",
        "# ignore all future warnings\n",
        "simplefilter(action='ignore', category=FutureWarning)\n",
        "\n",
        "# import warnings filter\n",
        "import warnings\n",
        "warnings.filterwarnings(\"ignore\", category=FutureWarning)\n",
        "\n",
        "#L1 Regularization/Lasso Regression\n",
        "lambda_l1=0.1\n",
        "logreg_L1 = LogisticRegression(penalty='l1',C=1/lambda_l1)\n",
        "logreg_L1.fit(Feature_training_data,labels_training_data)\n",
        "L1_labels_prediction_data = logreg_L1.predict(Feature_testing_data)\n",
        "\n",
        "#Evaluate L1 regularization model\n",
        "print('---------------------------------------------------')\n",
        "print('Performance of L1 regularization model')\n",
        "print('---------------------------------------------------')\n",
        "print('Accuracy of Logistic Regression model with L1 regularization with alpha value 0.1 is : '+ str(accuracy_score(labels_testing_data,L1_labels_prediction_data)))\n",
        "print('')\n",
        "\n",
        "print('We have mapped M as 1 and B as 0, Precision, recall and f1 score are as below')\n",
        "target_names = ['B', 'M']\n",
        "print(classification_report(labels_testing_data,L1_labels_prediction_data,digits=3,target_names=target_names))\n",
        "\n",
        "L1_confusion_matrix = confusion_matrix(labels_testing_data,L1_labels_prediction_data)\n",
        "print('Here is the confusion matrix')\n",
        "print('----------------------------')\n",
        "print(L1_confusion_matrix)\n",
        "print('')\n",
        "\n",
        "#L2 Regularization/Ridge Regression\n",
        "lambda_l2=0.1\n",
        "logreg_L2 = LogisticRegression(penalty='l2',C=1/lambda_l2)\n",
        "logreg_L2.fit(Feature_training_data,labels_training_data)\n",
        "L2_labels_prediction_data = logreg_L2.predict(Feature_testing_data)\n",
        "\n",
        "print('---------------------------------------------------')\n",
        "print('Performance of L2 regularization model')\n",
        "print('---------------------------------------------------')\n",
        "#Evaluate L2 regularization model\n",
        "print('Accuracy of Logistic Regression model with L2 regularization with lambda value 0.1 is : '+ str(accuracy_score(labels_testing_data,L2_labels_prediction_data)))\n",
        "print('')\n",
        "\n",
        "print('We have mapped M as 1 and B as 0, Precision, recall and f1 score are as below')\n",
        "target_names = ['B', 'M']\n",
        "print(classification_report(labels_testing_data,L2_labels_prediction_data,digits=3,target_names=target_names))\n",
        "\n",
        "L2_confusion_matrix = confusion_matrix(labels_testing_data,L2_labels_prediction_data)\n",
        "print('Here is the confusion matrix')\n",
        "print('----------------------------')\n",
        "print(L2_confusion_matrix)"
      ],
      "execution_count": 0,
      "outputs": [
        {
          "output_type": "stream",
          "text": [
            "---------------------------------------------------\n",
            "Performance of L1 regularization model\n",
            "---------------------------------------------------\n",
            "Accuracy of Logistic Regression model with L1 regularization with alpha value 0.1 is : 0.9\n",
            "\n",
            "We have mapped M as 1 and B as 0, Precision, recall and f1 score are as below\n",
            "              precision    recall  f1-score   support\n",
            "\n",
            "           B      0.875     1.000     0.933        14\n",
            "           M      1.000     0.667     0.800         6\n",
            "\n",
            "   micro avg      0.900     0.900     0.900        20\n",
            "   macro avg      0.938     0.833     0.867        20\n",
            "weighted avg      0.912     0.900     0.893        20\n",
            "\n",
            "Here is the confusion matrix\n",
            "----------------------------\n",
            "[[14  0]\n",
            " [ 2  4]]\n",
            "\n",
            "---------------------------------------------------\n",
            "Performance of L2 regularization model\n",
            "---------------------------------------------------\n",
            "Accuracy of Logistic Regression model with L2 regularization with lambda value 0.1 is : 0.95\n",
            "\n",
            "We have mapped M as 1 and B as 0, Precision, recall and f1 score are as below\n",
            "              precision    recall  f1-score   support\n",
            "\n",
            "           B      0.933     1.000     0.966        14\n",
            "           M      1.000     0.833     0.909         6\n",
            "\n",
            "   micro avg      0.950     0.950     0.950        20\n",
            "   macro avg      0.967     0.917     0.937        20\n",
            "weighted avg      0.953     0.950     0.949        20\n",
            "\n",
            "Here is the confusion matrix\n",
            "----------------------------\n",
            "[[14  0]\n",
            " [ 1  5]]\n"
          ],
          "name": "stdout"
        }
      ]
    },
    {
      "cell_type": "code",
      "metadata": {
        "colab_type": "code",
        "id": "wot3aeZ_QjMK",
        "colab": {}
      },
      "source": [
        "#1.3 Choosing the best hyper-parameter\n",
        "# We will define a function that will split the training dataset into 70% training set and 30% testing set and then \n",
        "#run logistic regression based on the input penalty and lambda value\n",
        "\n",
        "import numpy as np\n",
        "from sklearn.model_selection import train_test_split\n",
        "from sklearn.metrics import f1_score\n",
        "# import warnings filter\n",
        "import warnings\n",
        "warnings.filterwarnings(\"ignore\")\n",
        "\n",
        "\n",
        "def runLRmodel(trials, data, penalty_type, penalty_score):\n",
        "\n",
        "   model_acc     = 0\n",
        "   model_weights = np.zeros([1,3])\n",
        "   final_f1score = np.zeros([1, 2]) # storing model weights\n",
        "    \n",
        "   for i in range(0,trials):\n",
        "       Dtrain, Dtest = train_test_split(data, test_size=0.3)\n",
        "       Xtrain = Dtrain.iloc[:,2:32].copy()\n",
        "       ytrain = Dtrain.iloc[:,1].copy()\n",
        "       Xtest = Dtest.iloc[:,2:32].copy()\n",
        "       ytest = Dtest.iloc[:,1].copy()\n",
        "    \n",
        "       lr = LogisticRegression(C=1/penalty_score, penalty=penalty_type)\n",
        "       lr.fit(Xtrain, ytrain)\n",
        "       y_predict = lr.predict(Xtest)\n",
        "       f1score=f1_score(ytest, y_predict, average='weighted')\n",
        "       final_f1score  +=  f1score\n",
        "   final_f1score /= trials\n",
        "   return np.round(final_f1score, decimals=2)"
      ],
      "execution_count": 0,
      "outputs": []
    },
    {
      "cell_type": "code",
      "metadata": {
        "colab_type": "code",
        "id": "x_LbL2xlNeON",
        "outputId": "0d31af06-0ad6-4cbd-f7c6-6eaf37f2dac5",
        "colab": {
          "base_uri": "https://localhost:8080/",
          "height": 289
        }
      },
      "source": [
        "#For L1 model, choose the best alpha value from the following set: {0.1,1,3,10,33,100,333,1000, 3333, 10000, 33333} \n",
        "#based on parameter P.\n",
        "# import warnings filter\n",
        "import warnings\n",
        "warnings.filterwarnings(\"ignore\", category=FutureWarning)\n",
        "\n",
        "\n",
        "print('We are going to use P as f1-score since fID=',218545396%3)\n",
        "\n",
        "alpha_vals = [0.1,1,3,10,33,100,333,1000, 3333, 10000, 33333]\n",
        "l1_acc = np.zeros((len(alpha_vals),2))\n",
        "index = 0\n",
        "\n",
        "#L1 regularization\n",
        "for l in alpha_vals:\n",
        "   l1_acc[index] = runLRmodel(10,training_data, 'l1', np.float(l))\n",
        "   print('For alpha value :', l,'we got an average f1-score of:', l1_acc[index,0])\n",
        "   index += 1\n",
        "   \n",
        "#print(\"F1 score: {}\".format(l1_acc))\n",
        "# penalty at which validation accuracy is maximum\n",
        "max_index_l1  = np.argmax(l1_acc)\n",
        "best_alpha = alpha_vals[max_index_l1]\n",
        "print(\"\")\n",
        "print(\"\"\"We have performed 10 random splits of training data into training (70%) and validation (30%) set.\n",
        "We then used these 10 sets of data to find the average validation performance P which is the f1 score in our case.\n",
        "Best Alpha for L1 regularization that gave maximum F1 score is: {}\"\"\".format(best_alpha))"
      ],
      "execution_count": 0,
      "outputs": [
        {
          "output_type": "stream",
          "text": [
            "We are going to use P as f1-score since fID= 1\n",
            "For alpha value : 0.1 we got an average f1-score of: 0.98\n",
            "For alpha value : 1 we got an average f1-score of: 0.96\n",
            "For alpha value : 3 we got an average f1-score of: 0.9\n",
            "For alpha value : 10 we got an average f1-score of: 0.37\n",
            "For alpha value : 33 we got an average f1-score of: 0.44\n",
            "For alpha value : 100 we got an average f1-score of: 0.43\n",
            "For alpha value : 333 we got an average f1-score of: 0.42\n",
            "For alpha value : 1000 we got an average f1-score of: 0.43\n",
            "For alpha value : 3333 we got an average f1-score of: 0.43\n",
            "For alpha value : 10000 we got an average f1-score of: 0.4\n",
            "For alpha value : 33333 we got an average f1-score of: 0.45\n",
            "\n",
            "We have performed 10 random splits of training data into training (70%) and validation (30%) set.\n",
            "We then used these 10 sets of data to find the average validation performance P which is the f1 score in our case.\n",
            "Best Alpha for L1 regularization that gave maximum F1 score is: 0.1\n"
          ],
          "name": "stdout"
        }
      ]
    },
    {
      "cell_type": "code",
      "metadata": {
        "colab_type": "code",
        "id": "kznIYFb-dIge",
        "outputId": "b9b4a4aa-909d-4f4d-e80d-64450eed1a2d",
        "colab": {
          "base_uri": "https://localhost:8080/",
          "height": 272
        }
      },
      "source": [
        "#For L2 model, choose the best lambda value from the following set: {0.001, 0.003, 0.01, 0.03, 0.1,0.3,1,3,10,33} \n",
        "#based on parameter P. \n",
        "# import warnings filter\n",
        "import warnings\n",
        "warnings.filterwarnings(\"ignore\", category=FutureWarning)\n",
        "\n",
        "print('We are going to use P as f1-score since fID=',218545396%3)\n",
        "\n",
        "lambda_vals = [0.001, 0.003, 0.01, 0.03, 0.1,0.3,1,3,10,33]\n",
        "l2_acc = np.zeros((len(lambda_vals),2))\n",
        "index = 0\n",
        "\n",
        "#L2 regularization\n",
        "for l in lambda_vals:\n",
        "   l2_acc[index] = runLRmodel(10,training_data, 'l2', np.float(l))\n",
        "   print('For lambda value :', l,'we got an average f1-score of:', l2_acc[index,0])\n",
        "   index += 1\n",
        "   \n",
        "#print(\"F1 score: {}\".format(l2_acc))\n",
        "# penalty at which validation accuracy is maximum\n",
        "max_index_l2  = np.argmax(l2_acc)\n",
        "best_lambda = lambda_vals[max_index_l2]\n",
        "print(\"\")\n",
        "print(\"\"\"We have performed 10 random splits of training data into training (70%) and validation (30%) set.\n",
        "We then used these 10 sets of data to find the average validation performance P which is the f1 score in our case.\n",
        "Best Lambda for L2 regularization that gave maximum F1 score is: {}\"\"\".format(best_lambda))"
      ],
      "execution_count": 0,
      "outputs": [
        {
          "output_type": "stream",
          "text": [
            "We are going to use P as f1-score since fID= 1\n",
            "For lambda value : 0.001 we got an average f1-score of: 0.99\n",
            "For lambda value : 0.003 we got an average f1-score of: 0.98\n",
            "For lambda value : 0.01 we got an average f1-score of: 0.97\n",
            "For lambda value : 0.03 we got an average f1-score of: 0.98\n",
            "For lambda value : 0.1 we got an average f1-score of: 0.95\n",
            "For lambda value : 0.3 we got an average f1-score of: 0.97\n",
            "For lambda value : 1 we got an average f1-score of: 0.93\n",
            "For lambda value : 3 we got an average f1-score of: 0.94\n",
            "For lambda value : 10 we got an average f1-score of: 0.92\n",
            "For lambda value : 33 we got an average f1-score of: 0.86\n",
            "\n",
            "We have performed 10 random splits of training data into training (70%) and validation (30%) set.\n",
            "We then used these 10 sets of data to find the average validation performance P which is the f1 score in our case.\n",
            "Best Lambda for L2 regularization that gave maximum F1 score is: 0.001\n"
          ],
          "name": "stdout"
        }
      ]
    },
    {
      "cell_type": "code",
      "metadata": {
        "colab_type": "code",
        "id": "VyrqDpUdeeEi",
        "outputId": "724eb78b-1e74-49e6-edcf-4c136d9ebbea",
        "colab": {
          "base_uri": "https://localhost:8080/",
          "height": 680
        }
      },
      "source": [
        "#1.3c) Use the best alpha and lambda parameter to re-train your final L1 and L2 regularized model. \n",
        "#Evaluate the prediction performance on the test data and report the following:\n",
        "#Precision and Accuracy \n",
        "#The top 5 features selected in decreasing order of feature weights. \n",
        "#Confusion matrix \n",
        "# import warnings filter\n",
        "import warnings\n",
        "warnings.filterwarnings(\"ignore\", category=FutureWarning)\n",
        "\n",
        "\n",
        "#L1 Regularization/Lasso Regression\n",
        "lambda_l1=0.1\n",
        "logreg_L1 = LogisticRegression(penalty='l1',C=1/lambda_l1)\n",
        "logreg_L1.fit(Feature_training_data,labels_training_data)\n",
        "L1_labels_prediction_data = logreg_L1.predict(Feature_testing_data)\n",
        "\n",
        "#Evaluate L1 regularization model\n",
        "print('---------------------------------------------------')\n",
        "print('Performance of L1 regularization model')\n",
        "print('---------------------------------------------------')\n",
        "print('Accuracy of Logistic Regression model with L1 regularization with alpha value 0.1 is : '+ str(accuracy_score(labels_testing_data,L1_labels_prediction_data)))\n",
        "print('')\n",
        "\n",
        "print('We have mapped M as 1 and B as 0, Precision, recall and f1 score are as below')\n",
        "target_names = ['B', 'M']\n",
        "print(classification_report(labels_testing_data,L1_labels_prediction_data,digits=3,target_names=target_names))\n",
        "\n",
        "#The top 5 features selected in decreasing order of feature weights. \n",
        "logReg_coeff_L1 = pd.DataFrame({'feature_name': Feature_training_data.columns, 'model_coefficient': logreg_L1.coef_.transpose().flatten()})\n",
        "logReg_coeff_L1 = logReg_coeff_L1.sort_values('model_coefficient',ascending=False)\n",
        "logReg_coeff_L1_top = logReg_coeff_L1.head(5)\n",
        "\n",
        "print('The top 5 features in decreasing order of feature weights for L1 reularization are:')\n",
        "print(logReg_coeff_L1_top)\n",
        "print('')\n",
        "\n",
        "L1_confusion_matrix = confusion_matrix(labels_testing_data,L1_labels_prediction_data)\n",
        "print('Here is the confusion matrix for L1 regularization')\n",
        "print('--------------------------------------------------')\n",
        "print(L1_confusion_matrix)\n",
        "print('')\n",
        "\n",
        "#L2 Regularization/Ridge Regression\n",
        "lambda_l2=0.001\n",
        "logreg_L2 = LogisticRegression(penalty='l2',C=1/lambda_l2)\n",
        "logreg_L2.fit(Feature_training_data,labels_training_data)\n",
        "L2_labels_prediction_data = logreg_L2.predict(Feature_testing_data)\n",
        "\n",
        "print('---------------------------------------------------')\n",
        "print('Performance of L2 regularization model')\n",
        "print('---------------------------------------------------')\n",
        "#Evaluate L2 regularization model\n",
        "print('Accuracy of Logistic Regression model with L2 regularization with lambda value 0.001 is : '+ str(accuracy_score(labels_testing_data,L2_labels_prediction_data)))\n",
        "print('')\n",
        "\n",
        "print('We have mapped M as 1 and B as 0, Precision, recall and f1 score are as below')\n",
        "target_names = ['B', 'M']\n",
        "print(classification_report(labels_testing_data,L2_labels_prediction_data,digits=3,target_names=target_names))\n",
        "\n",
        "#The top 5 features selected in decreasing order of feature weights. \n",
        "logReg_coeff_L2 = pd.DataFrame({'feature_name': Feature_training_data.columns, 'model_coefficient': logreg_L2.coef_.transpose().flatten()})\n",
        "logReg_coeff_L2 = logReg_coeff_L2.sort_values('model_coefficient',ascending=False)\n",
        "logReg_coeff_L2_top = logReg_coeff_L2.head(5)\n",
        "\n",
        "print('The top 5 features in decreasing order of feature weights for L2 reularization are:')\n",
        "print(logReg_coeff_L2_top)\n",
        "print('')\n",
        "\n",
        "L2_confusion_matrix = confusion_matrix(labels_testing_data,L2_labels_prediction_data)\n",
        "print('Here is the confusion matrix for L2 regularization')\n",
        "print('--------------------------------------------------')\n",
        "print(L2_confusion_matrix)\n",
        "\n",
        "#reference:\n",
        "#https://sweetcode.io/easy-scikit-logistic-regression/"
      ],
      "execution_count": 0,
      "outputs": [
        {
          "output_type": "stream",
          "text": [
            "---------------------------------------------------\n",
            "Performance of L1 regularization model\n",
            "---------------------------------------------------\n",
            "Accuracy of Logistic Regression model with L1 regularization with alpha value 0.1 is : 0.9\n",
            "\n",
            "We have mapped M as 1 and B as 0, Precision, recall and f1 score are as below\n",
            "              precision    recall  f1-score   support\n",
            "\n",
            "           B      0.875     1.000     0.933        14\n",
            "           M      1.000     0.667     0.800         6\n",
            "\n",
            "   micro avg      0.900     0.900     0.900        20\n",
            "   macro avg      0.938     0.833     0.867        20\n",
            "weighted avg      0.912     0.900     0.893        20\n",
            "\n",
            "The top 5 features in decreasing order of feature weights for L1 reularization are:\n",
            "   feature_name  model_coefficient\n",
            "22          f23          16.071345\n",
            "21          f22           9.775681\n",
            "20          f21           7.941061\n",
            "24          f25           4.721608\n",
            "29          f30           3.399388\n",
            "\n",
            "Here is the confusion matrix for L1 regularization\n",
            "--------------------------------------------------\n",
            "[[14  0]\n",
            " [ 2  4]]\n",
            "\n",
            "---------------------------------------------------\n",
            "Performance of L2 regularization model\n",
            "---------------------------------------------------\n",
            "Accuracy of Logistic Regression model with L2 regularization with lambda value 0.001 is : 0.95\n",
            "\n",
            "We have mapped M as 1 and B as 0, Precision, recall and f1 score are as below\n",
            "              precision    recall  f1-score   support\n",
            "\n",
            "           B      0.933     1.000     0.966        14\n",
            "           M      1.000     0.833     0.909         6\n",
            "\n",
            "   micro avg      0.950     0.950     0.950        20\n",
            "   macro avg      0.967     0.917     0.937        20\n",
            "weighted avg      0.953     0.950     0.949        20\n",
            "\n",
            "The top 5 features in decreasing order of feature weights for L2 reularization are:\n",
            "   feature_name  model_coefficient\n",
            "21          f22          13.132683\n",
            "7            f8           9.333281\n",
            "29          f30           7.927975\n",
            "6            f7           7.608020\n",
            "23          f24           6.723212\n",
            "\n",
            "Here is the confusion matrix for L2 regularization\n",
            "--------------------------------------------------\n",
            "[[14  0]\n",
            " [ 1  5]]\n"
          ],
          "name": "stdout"
        }
      ]
    }
  ]
}